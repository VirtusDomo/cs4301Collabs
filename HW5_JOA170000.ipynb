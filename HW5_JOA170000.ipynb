{
  "cells": [
    {
      "cell_type": "markdown",
      "metadata": {
        "id": "view-in-github",
        "colab_type": "text"
      },
      "source": [
        "<a href=\"https://colab.research.google.com/github/VirtusDomo/cs4301Collabs/blob/main/HW5_JOA170000.ipynb\" target=\"_parent\"><img src=\"https://colab.research.google.com/assets/colab-badge.svg\" alt=\"Open In Colab\"/></a>"
      ]
    },
    {
      "cell_type": "markdown",
      "source": [
        "### Homework 5 \n",
        "### James Anyabine JOA170000\n",
        "\n",
        "### Step 1: Description\n",
        "\n",
        "This notebook performs regression to estimate the price of a car given various features. \n",
        "\n",
        "### Step 2: Load the data \n",
        "\n",
        "* upload the data\n",
        "* put the data in a pandas dataframe\n",
        "* output the data shape (rows, cols)\n",
        "* output the first few rows of the data"
      ],
      "metadata": {
        "id": "Lij9_HSB5H5Q"
      }
    },
    {
      "cell_type": "code",
      "source": [
        "# load the csv file up into the cloud\n",
        "\n",
        "from google.colab import files\n",
        "uploaded = files.upload()"
      ],
      "outputs": [
        {
          "output_type": "display_data",
          "data": {
            "text/html": [
              "\n",
              "     <input type=\"file\" id=\"files-6098dfb2-8745-4d41-ad43-ec52c1ade543\" name=\"files[]\" multiple disabled\n",
              "        style=\"border:none\" />\n",
              "     <output id=\"result-6098dfb2-8745-4d41-ad43-ec52c1ade543\">\n",
              "      Upload widget is only available when the cell has been executed in the\n",
              "      current browser session. Please rerun this cell to enable.\n",
              "      </output>\n",
              "      <script src=\"/nbextensions/google.colab/files.js\"></script> "
            ],
            "text/plain": [
              "<IPython.core.display.HTML object>"
            ]
          },
          "metadata": {}
        },
        {
          "output_type": "stream",
          "name": "stdout",
          "text": [
            "Saving audi.csv to audi.csv\n"
          ]
        }
      ],
      "execution_count": 1,
      "metadata": {
        "colab": {
          "resources": {
            "http://localhost:8080/nbextensions/google.colab/files.js": {
              "data": "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",
              "ok": true,
              "headers": [
                [
                  "content-type",
                  "application/javascript"
                ]
              ],
              "status": 200,
              "status_text": ""
            }
          },
          "base_uri": "https://localhost:8080/",
          "height": 73
        },
        "id": "ZdSPFfzD5C4q",
        "outputId": "ffe0bb99-b5b8-483e-b78d-9c47f8055543",
        "execution": {
          "shell.execute_reply": "2022-02-09T17:57:30.731Z",
          "iopub.status.busy": "2022-02-09T17:57:30.817Z",
          "iopub.execute_input": "2022-02-09T17:57:30.826Z",
          "iopub.status.idle": "2022-02-09T17:57:30.840Z"
        }
      }
    },
    {
      "cell_type": "code",
      "source": [
        "# load the data into a pandas data frame\n",
        "# print the shape of the data frame\n",
        "# display the first few rows\n",
        "import io\n",
        "import pandas as pd\n",
        "\n",
        "df = pd.read_csv(io.BytesIO(uploaded['audi.csv']))\n",
        "\n",
        "print(df.shape)\n",
        "print(df.head(5))\n"
      ],
      "outputs": [
        {
          "output_type": "stream",
          "name": "stdout",
          "text": [
            "(10668, 9)\n",
            "  model  year  price transmission  mileage fuelType  tax   mpg  engineSize\n",
            "0    A1  2017  12500       Manual    15735   Petrol  150  55.4         1.4\n",
            "1    A6  2016  16500    Automatic    36203   Diesel   20  64.2         2.0\n",
            "2    A1  2016  11000       Manual    29946   Petrol   30  55.4         1.4\n",
            "3    A4  2017  16800    Automatic    25952   Diesel  145  67.3         2.0\n",
            "4    A3  2019  17300       Manual     1998   Petrol  145  49.6         1.0\n"
          ]
        }
      ],
      "execution_count": 3,
      "metadata": {
        "colab": {
          "base_uri": "https://localhost:8080/",
          "height": 0
        },
        "id": "j9v6Si4e5q78",
        "outputId": "91c8bb83-adf0-4c5d-fd3c-1b4723a38aa2",
        "execution": {
          "iopub.status.busy": "2022-02-09T17:58:19.509Z",
          "iopub.execute_input": "2022-02-09T17:58:19.517Z",
          "iopub.status.idle": "2022-02-09T17:58:19.534Z",
          "shell.execute_reply": "2022-02-09T17:58:19.544Z"
        }
      }
    },
    {
      "cell_type": "markdown",
      "source": [
        "### Step 3 Data Exploration\n",
        "\n"
      ],
      "metadata": {
        "id": "0WRAuOL9kZLT"
      }
    },
    {
      "cell_type": "code",
      "source": [
        "df.dtypes\n",
        "#df.columns"
      ],
      "outputs": [
        {
          "output_type": "execute_result",
          "data": {
            "text/plain": [
              "model            object\n",
              "year              int64\n",
              "price             int64\n",
              "transmission     object\n",
              "mileage           int64\n",
              "fuelType         object\n",
              "tax               int64\n",
              "mpg             float64\n",
              "engineSize      float64\n",
              "dtype: object"
            ]
          },
          "metadata": {},
          "execution_count": 7
        }
      ],
      "execution_count": 7,
      "metadata": {
        "colab": {
          "base_uri": "https://localhost:8080/",
          "height": 0
        },
        "id": "2x2KvkCJHBkC",
        "outputId": "95a1a504-9f06-4be4-b62e-4e77d8e6711a"
      }
    },
    {
      "cell_type": "code",
      "source": [
        "# change categorical column type from object to category\n",
        "for col in df.columns:\n",
        "  if df[col].dtypes == 'object':\n",
        "    df[col] = df[col].astype('category') \n",
        "\n",
        "\n",
        "df.dtypes"
      ],
      "outputs": [
        {
          "output_type": "execute_result",
          "data": {
            "text/plain": [
              "model           category\n",
              "year               int64\n",
              "price              int64\n",
              "transmission    category\n",
              "mileage            int64\n",
              "fuelType        category\n",
              "tax                int64\n",
              "mpg              float64\n",
              "engineSize       float64\n",
              "dtype: object"
            ]
          },
          "metadata": {},
          "execution_count": 12
        }
      ],
      "execution_count": 12,
      "metadata": {
        "colab": {
          "base_uri": "https://localhost:8080/",
          "height": 0
        },
        "id": "a3T2oWBqFWgb",
        "outputId": "5c892c47-4703-46c6-d259-cc5112fa3fa7",
        "execution": {
          "iopub.status.busy": "2022-02-09T17:58:38.850Z",
          "iopub.execute_input": "2022-02-09T17:58:38.857Z",
          "iopub.status.idle": "2022-02-09T17:58:38.869Z",
          "shell.execute_reply": "2022-02-09T17:58:38.878Z"
        }
      }
    },
    {
      "cell_type": "code",
      "source": [
        "# check for NAs\n",
        "df.isnull().sum().sum()"
      ],
      "outputs": [
        {
          "output_type": "execute_result",
          "data": {
            "text/plain": [
              "0"
            ]
          },
          "metadata": {},
          "execution_count": 14
        }
      ],
      "execution_count": 14,
      "metadata": {
        "colab": {
          "base_uri": "https://localhost:8080/",
          "height": 0
        },
        "id": "EntWx_jY6fAQ",
        "outputId": "505e8c41-40ed-468a-db95-df87cbdc6956",
        "execution": {
          "iopub.status.busy": "2022-02-09T17:58:50.400Z",
          "iopub.execute_input": "2022-02-09T17:58:50.406Z",
          "iopub.status.idle": "2022-02-09T17:58:50.418Z",
          "shell.execute_reply": "2022-02-09T17:58:50.424Z"
        }
      }
    },
    {
      "cell_type": "code",
      "source": [
        "# use describe() to examine the data\n",
        "df.describe()"
      ],
      "outputs": [
        {
          "output_type": "execute_result",
          "data": {
            "text/html": [
              "\n",
              "  <div id=\"df-2c169b68-fc69-4fef-b465-4fc2dbee2789\">\n",
              "    <div class=\"colab-df-container\">\n",
              "      <div>\n",
              "<style scoped>\n",
              "    .dataframe tbody tr th:only-of-type {\n",
              "        vertical-align: middle;\n",
              "    }\n",
              "\n",
              "    .dataframe tbody tr th {\n",
              "        vertical-align: top;\n",
              "    }\n",
              "\n",
              "    .dataframe thead th {\n",
              "        text-align: right;\n",
              "    }\n",
              "</style>\n",
              "<table border=\"1\" class=\"dataframe\">\n",
              "  <thead>\n",
              "    <tr style=\"text-align: right;\">\n",
              "      <th></th>\n",
              "      <th>year</th>\n",
              "      <th>price</th>\n",
              "      <th>mileage</th>\n",
              "      <th>tax</th>\n",
              "      <th>mpg</th>\n",
              "      <th>engineSize</th>\n",
              "    </tr>\n",
              "  </thead>\n",
              "  <tbody>\n",
              "    <tr>\n",
              "      <th>count</th>\n",
              "      <td>10668.000000</td>\n",
              "      <td>10668.000000</td>\n",
              "      <td>10668.000000</td>\n",
              "      <td>10668.000000</td>\n",
              "      <td>10668.000000</td>\n",
              "      <td>10668.000000</td>\n",
              "    </tr>\n",
              "    <tr>\n",
              "      <th>mean</th>\n",
              "      <td>2017.100675</td>\n",
              "      <td>22896.685039</td>\n",
              "      <td>24827.244001</td>\n",
              "      <td>126.011436</td>\n",
              "      <td>50.770022</td>\n",
              "      <td>1.930709</td>\n",
              "    </tr>\n",
              "    <tr>\n",
              "      <th>std</th>\n",
              "      <td>2.167494</td>\n",
              "      <td>11714.841888</td>\n",
              "      <td>23505.257205</td>\n",
              "      <td>67.170294</td>\n",
              "      <td>12.949782</td>\n",
              "      <td>0.602957</td>\n",
              "    </tr>\n",
              "    <tr>\n",
              "      <th>min</th>\n",
              "      <td>1997.000000</td>\n",
              "      <td>1490.000000</td>\n",
              "      <td>1.000000</td>\n",
              "      <td>0.000000</td>\n",
              "      <td>18.900000</td>\n",
              "      <td>0.000000</td>\n",
              "    </tr>\n",
              "    <tr>\n",
              "      <th>25%</th>\n",
              "      <td>2016.000000</td>\n",
              "      <td>15130.750000</td>\n",
              "      <td>5968.750000</td>\n",
              "      <td>125.000000</td>\n",
              "      <td>40.900000</td>\n",
              "      <td>1.500000</td>\n",
              "    </tr>\n",
              "    <tr>\n",
              "      <th>50%</th>\n",
              "      <td>2017.000000</td>\n",
              "      <td>20200.000000</td>\n",
              "      <td>19000.000000</td>\n",
              "      <td>145.000000</td>\n",
              "      <td>49.600000</td>\n",
              "      <td>2.000000</td>\n",
              "    </tr>\n",
              "    <tr>\n",
              "      <th>75%</th>\n",
              "      <td>2019.000000</td>\n",
              "      <td>27990.000000</td>\n",
              "      <td>36464.500000</td>\n",
              "      <td>145.000000</td>\n",
              "      <td>58.900000</td>\n",
              "      <td>2.000000</td>\n",
              "    </tr>\n",
              "    <tr>\n",
              "      <th>max</th>\n",
              "      <td>2020.000000</td>\n",
              "      <td>145000.000000</td>\n",
              "      <td>323000.000000</td>\n",
              "      <td>580.000000</td>\n",
              "      <td>188.300000</td>\n",
              "      <td>6.300000</td>\n",
              "    </tr>\n",
              "  </tbody>\n",
              "</table>\n",
              "</div>\n",
              "      <button class=\"colab-df-convert\" onclick=\"convertToInteractive('df-2c169b68-fc69-4fef-b465-4fc2dbee2789')\"\n",
              "              title=\"Convert this dataframe to an interactive table.\"\n",
              "              style=\"display:none;\">\n",
              "        \n",
              "  <svg xmlns=\"http://www.w3.org/2000/svg\" height=\"24px\"viewBox=\"0 0 24 24\"\n",
              "       width=\"24px\">\n",
              "    <path d=\"M0 0h24v24H0V0z\" fill=\"none\"/>\n",
              "    <path d=\"M18.56 5.44l.94 2.06.94-2.06 2.06-.94-2.06-.94-.94-2.06-.94 2.06-2.06.94zm-11 1L8.5 8.5l.94-2.06 2.06-.94-2.06-.94L8.5 2.5l-.94 2.06-2.06.94zm10 10l.94 2.06.94-2.06 2.06-.94-2.06-.94-.94-2.06-.94 2.06-2.06.94z\"/><path d=\"M17.41 7.96l-1.37-1.37c-.4-.4-.92-.59-1.43-.59-.52 0-1.04.2-1.43.59L10.3 9.45l-7.72 7.72c-.78.78-.78 2.05 0 2.83L4 21.41c.39.39.9.59 1.41.59.51 0 1.02-.2 1.41-.59l7.78-7.78 2.81-2.81c.8-.78.8-2.07 0-2.86zM5.41 20L4 18.59l7.72-7.72 1.47 1.35L5.41 20z\"/>\n",
              "  </svg>\n",
              "      </button>\n",
              "      \n",
              "  <style>\n",
              "    .colab-df-container {\n",
              "      display:flex;\n",
              "      flex-wrap:wrap;\n",
              "      gap: 12px;\n",
              "    }\n",
              "\n",
              "    .colab-df-convert {\n",
              "      background-color: #E8F0FE;\n",
              "      border: none;\n",
              "      border-radius: 50%;\n",
              "      cursor: pointer;\n",
              "      display: none;\n",
              "      fill: #1967D2;\n",
              "      height: 32px;\n",
              "      padding: 0 0 0 0;\n",
              "      width: 32px;\n",
              "    }\n",
              "\n",
              "    .colab-df-convert:hover {\n",
              "      background-color: #E2EBFA;\n",
              "      box-shadow: 0px 1px 2px rgba(60, 64, 67, 0.3), 0px 1px 3px 1px rgba(60, 64, 67, 0.15);\n",
              "      fill: #174EA6;\n",
              "    }\n",
              "\n",
              "    [theme=dark] .colab-df-convert {\n",
              "      background-color: #3B4455;\n",
              "      fill: #D2E3FC;\n",
              "    }\n",
              "\n",
              "    [theme=dark] .colab-df-convert:hover {\n",
              "      background-color: #434B5C;\n",
              "      box-shadow: 0px 1px 3px 1px rgba(0, 0, 0, 0.15);\n",
              "      filter: drop-shadow(0px 1px 2px rgba(0, 0, 0, 0.3));\n",
              "      fill: #FFFFFF;\n",
              "    }\n",
              "  </style>\n",
              "\n",
              "      <script>\n",
              "        const buttonEl =\n",
              "          document.querySelector('#df-2c169b68-fc69-4fef-b465-4fc2dbee2789 button.colab-df-convert');\n",
              "        buttonEl.style.display =\n",
              "          google.colab.kernel.accessAllowed ? 'block' : 'none';\n",
              "\n",
              "        async function convertToInteractive(key) {\n",
              "          const element = document.querySelector('#df-2c169b68-fc69-4fef-b465-4fc2dbee2789');\n",
              "          const dataTable =\n",
              "            await google.colab.kernel.invokeFunction('convertToInteractive',\n",
              "                                                     [key], {});\n",
              "          if (!dataTable) return;\n",
              "\n",
              "          const docLinkHtml = 'Like what you see? Visit the ' +\n",
              "            '<a target=\"_blank\" href=https://colab.research.google.com/notebooks/data_table.ipynb>data table notebook</a>'\n",
              "            + ' to learn more about interactive tables.';\n",
              "          element.innerHTML = '';\n",
              "          dataTable['output_type'] = 'display_data';\n",
              "          await google.colab.output.renderOutput(dataTable, element);\n",
              "          const docLink = document.createElement('div');\n",
              "          docLink.innerHTML = docLinkHtml;\n",
              "          element.appendChild(docLink);\n",
              "        }\n",
              "      </script>\n",
              "    </div>\n",
              "  </div>\n",
              "  "
            ],
            "text/plain": [
              "               year          price  ...           mpg    engineSize\n",
              "count  10668.000000   10668.000000  ...  10668.000000  10668.000000\n",
              "mean    2017.100675   22896.685039  ...     50.770022      1.930709\n",
              "std        2.167494   11714.841888  ...     12.949782      0.602957\n",
              "min     1997.000000    1490.000000  ...     18.900000      0.000000\n",
              "25%     2016.000000   15130.750000  ...     40.900000      1.500000\n",
              "50%     2017.000000   20200.000000  ...     49.600000      2.000000\n",
              "75%     2019.000000   27990.000000  ...     58.900000      2.000000\n",
              "max     2020.000000  145000.000000  ...    188.300000      6.300000\n",
              "\n",
              "[8 rows x 6 columns]"
            ]
          },
          "metadata": {},
          "execution_count": 15
        }
      ],
      "execution_count": 15,
      "metadata": {
        "colab": {
          "base_uri": "https://localhost:8080/",
          "height": 338
        },
        "id": "NO3sOnhn6maa",
        "outputId": "dc94c099-c994-4be9-e5a7-5f709e86f7ac",
        "execution": {
          "iopub.status.busy": "2022-02-09T17:59:05.815Z",
          "iopub.execute_input": "2022-02-09T17:59:05.822Z",
          "iopub.status.idle": "2022-02-09T17:59:05.832Z",
          "shell.execute_reply": "2022-02-09T17:59:05.839Z"
        }
      }
    },
    {
      "cell_type": "code",
      "source": [
        "# using seaborn, craete a lineplot() with year on the x axis and price on the y axis\n",
        "import seaborn as sns\n",
        "\n",
        "sns.lineplot('year', 'price', data=df)"
      ],
      "outputs": [
        {
          "output_type": "stream",
          "name": "stderr",
          "text": [
            "/usr/local/lib/python3.7/dist-packages/seaborn/_decorators.py:43: FutureWarning: Pass the following variables as keyword args: x, y. From version 0.12, the only valid positional argument will be `data`, and passing other arguments without an explicit keyword will result in an error or misinterpretation.\n",
            "  FutureWarning\n"
          ]
        },
        {
          "output_type": "execute_result",
          "data": {
            "text/plain": [
              "<matplotlib.axes._subplots.AxesSubplot at 0x7f522039c890>"
            ]
          },
          "metadata": {},
          "execution_count": 16
        },
        {
          "output_type": "display_data",
          "data": {
            "image/png": "[encoded data removed]",
            "text/plain": [
              "<Figure size 432x288 with 1 Axes>"
            ]
          },
          "metadata": {
            "needs_background": "light"
          }
        }
      ],
      "execution_count": 16,
      "metadata": {
        "colab": {
          "base_uri": "https://localhost:8080/",
          "height": 351
        },
        "id": "5i0mvNwO7AH8",
        "outputId": "d5ebea3d-01e1-4048-fdda-de9d189a46cc",
        "execution": {
          "iopub.status.busy": "2022-02-09T17:59:58.922Z",
          "iopub.execute_input": "2022-02-09T17:59:58.928Z",
          "iopub.status.idle": "2022-02-09T17:59:58.941Z",
          "shell.execute_reply": "2022-02-09T17:59:58.947Z"
        }
      }
    },
    {
      "cell_type": "code",
      "source": [
        "# create another plot exploring the data\n",
        "# choose columns and plot type\n",
        "sns.lineplot('engineSize' , 'mpg', data=df)"
      ],
      "outputs": [
        {
          "output_type": "stream",
          "name": "stderr",
          "text": [
            "/usr/local/lib/python3.7/dist-packages/seaborn/_decorators.py:43: FutureWarning: Pass the following variables as keyword args: x, y. From version 0.12, the only valid positional argument will be `data`, and passing other arguments without an explicit keyword will result in an error or misinterpretation.\n",
            "  FutureWarning\n"
          ]
        },
        {
          "output_type": "execute_result",
          "data": {
            "text/plain": [
              "<matplotlib.axes._subplots.AxesSubplot at 0x7f52202a0f50>"
            ]
          },
          "metadata": {},
          "execution_count": 17
        },
        {
          "output_type": "display_data",
          "data": {
            "image/png": "[encoded data removed]",
            "text/plain": [
              "<Figure size 432x288 with 1 Axes>"
            ]
          },
          "metadata": {
            "needs_background": "light"
          }
        }
      ],
      "execution_count": 17,
      "metadata": {
        "colab": {
          "base_uri": "https://localhost:8080/",
          "height": 351
        },
        "id": "8ILFx3plBn53",
        "outputId": "97c910a1-f9db-46cd-a407-a5b8db119cc0",
        "execution": {
          "iopub.status.busy": "2022-02-09T18:00:25.992Z",
          "iopub.execute_input": "2022-02-09T18:00:25.999Z",
          "iopub.status.idle": "2022-02-09T18:00:26.009Z",
          "shell.execute_reply": "2022-02-09T18:00:26.016Z"
        }
      }
    },
    {
      "cell_type": "markdown",
      "source": [
        "### Step 4 Prepare Data\n",
        "\n",
        "You can use the code below for this step. \n",
        "\n"
      ],
      "metadata": {
        "id": "8piYMXh6B_Nc"
      }
    },
    {
      "cell_type": "code",
      "source": [
        "# set up X and y\n",
        "\n",
        "X=df.drop(columns=['price'],axis=1)\n",
        "y=df['price']"
      ],
      "outputs": [],
      "execution_count": 18,
      "metadata": {
        "id": "JhllC618CPM5"
      }
    },
    {
      "cell_type": "code",
      "source": [
        "import numpy as np\n",
        "from sklearn.preprocessing import MinMaxScaler, LabelBinarizer\n",
        "from sklearn.compose import ColumnTransformer\n",
        "from sklearn.model_selection import train_test_split\n",
        "\n",
        "\n",
        "X_train,X_test,y_train,y_test=train_test_split(X, y, test_size=0.2)\n",
        "\n",
        "# scale the numeric data\n",
        "col_list = ['year', 'mileage', 'tax', 'mpg', 'engineSize']\n",
        "scaler = MinMaxScaler()\n",
        "train_numeric = scaler.fit_transform(X_train[col_list])\n",
        "test_numeric = scaler.transform(X_test[col_list])\n",
        "\n",
        "# one-hot encode the categorical data for model, transmission, and fuelType\n",
        "# model\n",
        "zipBinarizer = LabelBinarizer().fit(df['model'])\n",
        "train_model = zipBinarizer.transform(X_train['model'])\n",
        "test_model = zipBinarizer.transform(X_test['model'])\n",
        "# transmission\n",
        "zipBinarizer = LabelBinarizer().fit(df['transmission'])\n",
        "train_transmission = zipBinarizer.transform(X_train['transmission'])\n",
        "test_transmission = zipBinarizer.transform(X_test['transmission'])\n",
        "# fuelType\n",
        "zipBinarizer = LabelBinarizer().fit(df['fuelType'])\n",
        "train_fuelType = zipBinarizer.transform(X_train['fuelType'])\n",
        "test_fuelType = zipBinarizer.transform(X_test['fuelType'])\n",
        "\n",
        "# concatenate\n",
        "X_train_input = np.hstack([train_numeric, train_model, train_transmission, train_fuelType])\n",
        "X_test_input = np.hstack([test_numeric, test_model, test_transmission, test_fuelType])\n",
        "\n",
        "print(X_train_input[:3])\n"
      ],
      "outputs": [
        {
          "output_type": "stream",
          "name": "stdout",
          "text": [
            "[[0.82608696 0.12697563 0.21551724 0.20306966 0.22222222 0.\n",
            "  0.         1.         0.         0.         0.         0.\n",
            "  0.         0.         0.         0.         0.         0.\n",
            "  0.         0.         0.         0.         0.         0.\n",
            "  0.         0.         0.         0.         0.         0.\n",
            "  0.         0.         1.         0.         0.         0.\n",
            "  1.        ]\n",
            " [0.95652174 0.02186075 0.25       0.18122786 0.25396825 0.\n",
            "  0.         1.         0.         0.         0.         0.\n",
            "  0.         0.         0.         0.         0.         0.\n",
            "  0.         0.         0.         0.         0.         0.\n",
            "  0.         0.         0.         0.         0.         0.\n",
            "  0.         0.         1.         0.         1.         0.\n",
            "  0.        ]\n",
            " [0.86956522 0.10696628 0.25862069 0.28571429 0.15873016 1.\n",
            "  0.         0.         0.         0.         0.         0.\n",
            "  0.         0.         0.         0.         0.         0.\n",
            "  0.         0.         0.         0.         0.         0.\n",
            "  0.         0.         0.         0.         0.         0.\n",
            "  0.         0.         1.         0.         0.         0.\n",
            "  1.        ]]\n"
          ]
        }
      ],
      "execution_count": 19,
      "metadata": {
        "id": "1Gi4lnnaCPUV",
        "colab": {
          "base_uri": "https://localhost:8080/",
          "height": 0
        },
        "outputId": "7ce3d0c2-f92c-4945-d283-b1cbb774550e"
      }
    },
    {
      "cell_type": "markdown",
      "source": [
        "### Step 5 Linear regression\n",
        "\n",
        "Run linear regression in sklearn. "
      ],
      "metadata": {
        "id": "QbG9IUksmHci"
      }
    },
    {
      "cell_type": "code",
      "source": [
        "# train the algorithm\n",
        "from sklearn.linear_model import LinearRegression\n",
        "\n",
        "linreg = LinearRegression()\n",
        "linreg.fit(X_train_input, y_train)\n",
        "\n",
        "LinearRegression(copy_X=True, fit_intercept=True, n_jobs=None, normalize=False)"
      ],
      "outputs": [
        {
          "output_type": "execute_result",
          "data": {
            "text/plain": [
              "LinearRegression(normalize=False)"
            ]
          },
          "metadata": {},
          "execution_count": 21
        }
      ],
      "execution_count": 21,
      "metadata": {
        "colab": {
          "base_uri": "https://localhost:8080/",
          "height": 0
        },
        "id": "5pgB8IzVCPbf",
        "outputId": "0ca51ea8-1211-49f9-e3d9-8905048fbcd6",
        "execution": {
          "iopub.status.busy": "2022-02-09T18:01:24.149Z",
          "iopub.execute_input": "2022-02-09T18:01:24.156Z",
          "iopub.status.idle": "2022-02-09T18:01:24.168Z",
          "shell.execute_reply": "2022-02-09T18:01:24.174Z"
        }
      }
    },
    {
      "cell_type": "code",
      "source": [
        "# make predictions\n",
        "Y_pred = linreg.predict(X_test_input)"
      ],
      "outputs": [],
      "execution_count": 24,
      "metadata": {
        "id": "VtxNA2xRC_9w",
        "execution": {
          "iopub.status.busy": "2022-02-09T18:01:29.090Z",
          "iopub.execute_input": "2022-02-09T18:01:29.096Z",
          "iopub.status.idle": "2022-02-09T18:01:29.108Z",
          "shell.execute_reply": "2022-02-09T18:01:29.114Z"
        }
      }
    },
    {
      "cell_type": "code",
      "source": [
        "# evaluation on the test data using mse, mae, and r2_score\n",
        "from sklearn.metrics import mean_squared_error, mean_absolute_error, r2_score\n",
        "print('MSE:', mean_squared_error(y_test, Y_pred))\n",
        "print('MAE:', mean_absolute_error(y_test, Y_pred))\n",
        "print('Correlation:', r2_score(y_test,Y_pred))"
      ],
      "outputs": [
        {
          "output_type": "stream",
          "name": "stdout",
          "text": [
            "MSE: 5.962237773395945e+27\n",
            "MAE: 1671504072148.0137\n",
            "Correlation: -3.895955448250785e+19\n"
          ]
        }
      ],
      "execution_count": 25,
      "metadata": {
        "colab": {
          "base_uri": "https://localhost:8080/",
          "height": 0
        },
        "id": "Nh_m31RSDAB5",
        "outputId": "74c26a6c-bd45-40b0-cbd1-96bf9a83784f",
        "execution": {
          "iopub.status.busy": "2022-02-09T18:01:58.423Z",
          "iopub.execute_input": "2022-02-09T18:01:58.431Z",
          "iopub.status.idle": "2022-02-09T18:01:58.441Z",
          "shell.execute_reply": "2022-02-09T18:01:58.448Z"
        }
      }
    },
    {
      "cell_type": "code",
      "source": [
        "# display the first 5 predictions\n",
        "# display the first 5 actual values\n",
        "dp = pd.DataFrame({'Actaual': y_test, 'Predicted': Y_pred})\n",
        "dp.head(5)"
      ],
      "outputs": [
        {
          "output_type": "execute_result",
          "data": {
            "text/html": [
              "\n",
              "  <div id=\"df-27c8fef7-e24f-46df-b616-20f76edbae4c\">\n",
              "    <div class=\"colab-df-container\">\n",
              "      <div>\n",
              "<style scoped>\n",
              "    .dataframe tbody tr th:only-of-type {\n",
              "        vertical-align: middle;\n",
              "    }\n",
              "\n",
              "    .dataframe tbody tr th {\n",
              "        vertical-align: top;\n",
              "    }\n",
              "\n",
              "    .dataframe thead th {\n",
              "        text-align: right;\n",
              "    }\n",
              "</style>\n",
              "<table border=\"1\" class=\"dataframe\">\n",
              "  <thead>\n",
              "    <tr style=\"text-align: right;\">\n",
              "      <th></th>\n",
              "      <th>Actaual</th>\n",
              "      <th>Predicted</th>\n",
              "    </tr>\n",
              "  </thead>\n",
              "  <tbody>\n",
              "    <tr>\n",
              "      <th>5551</th>\n",
              "      <td>18500</td>\n",
              "      <td>17760.0</td>\n",
              "    </tr>\n",
              "    <tr>\n",
              "      <th>2487</th>\n",
              "      <td>20700</td>\n",
              "      <td>20352.0</td>\n",
              "    </tr>\n",
              "    <tr>\n",
              "      <th>9931</th>\n",
              "      <td>10799</td>\n",
              "      <td>7456.0</td>\n",
              "    </tr>\n",
              "    <tr>\n",
              "      <th>74</th>\n",
              "      <td>16000</td>\n",
              "      <td>19472.0</td>\n",
              "    </tr>\n",
              "    <tr>\n",
              "      <th>228</th>\n",
              "      <td>21985</td>\n",
              "      <td>23808.0</td>\n",
              "    </tr>\n",
              "  </tbody>\n",
              "</table>\n",
              "</div>\n",
              "      <button class=\"colab-df-convert\" onclick=\"convertToInteractive('df-27c8fef7-e24f-46df-b616-20f76edbae4c')\"\n",
              "              title=\"Convert this dataframe to an interactive table.\"\n",
              "              style=\"display:none;\">\n",
              "        \n",
              "  <svg xmlns=\"http://www.w3.org/2000/svg\" height=\"24px\"viewBox=\"0 0 24 24\"\n",
              "       width=\"24px\">\n",
              "    <path d=\"M0 0h24v24H0V0z\" fill=\"none\"/>\n",
              "    <path d=\"M18.56 5.44l.94 2.06.94-2.06 2.06-.94-2.06-.94-.94-2.06-.94 2.06-2.06.94zm-11 1L8.5 8.5l.94-2.06 2.06-.94-2.06-.94L8.5 2.5l-.94 2.06-2.06.94zm10 10l.94 2.06.94-2.06 2.06-.94-2.06-.94-.94-2.06-.94 2.06-2.06.94z\"/><path d=\"M17.41 7.96l-1.37-1.37c-.4-.4-.92-.59-1.43-.59-.52 0-1.04.2-1.43.59L10.3 9.45l-7.72 7.72c-.78.78-.78 2.05 0 2.83L4 21.41c.39.39.9.59 1.41.59.51 0 1.02-.2 1.41-.59l7.78-7.78 2.81-2.81c.8-.78.8-2.07 0-2.86zM5.41 20L4 18.59l7.72-7.72 1.47 1.35L5.41 20z\"/>\n",
              "  </svg>\n",
              "      </button>\n",
              "      \n",
              "  <style>\n",
              "    .colab-df-container {\n",
              "      display:flex;\n",
              "      flex-wrap:wrap;\n",
              "      gap: 12px;\n",
              "    }\n",
              "\n",
              "    .colab-df-convert {\n",
              "      background-color: #E8F0FE;\n",
              "      border: none;\n",
              "      border-radius: 50%;\n",
              "      cursor: pointer;\n",
              "      display: none;\n",
              "      fill: #1967D2;\n",
              "      height: 32px;\n",
              "      padding: 0 0 0 0;\n",
              "      width: 32px;\n",
              "    }\n",
              "\n",
              "    .colab-df-convert:hover {\n",
              "      background-color: #E2EBFA;\n",
              "      box-shadow: 0px 1px 2px rgba(60, 64, 67, 0.3), 0px 1px 3px 1px rgba(60, 64, 67, 0.15);\n",
              "      fill: #174EA6;\n",
              "    }\n",
              "\n",
              "    [theme=dark] .colab-df-convert {\n",
              "      background-color: #3B4455;\n",
              "      fill: #D2E3FC;\n",
              "    }\n",
              "\n",
              "    [theme=dark] .colab-df-convert:hover {\n",
              "      background-color: #434B5C;\n",
              "      box-shadow: 0px 1px 3px 1px rgba(0, 0, 0, 0.15);\n",
              "      filter: drop-shadow(0px 1px 2px rgba(0, 0, 0, 0.3));\n",
              "      fill: #FFFFFF;\n",
              "    }\n",
              "  </style>\n",
              "\n",
              "      <script>\n",
              "        const buttonEl =\n",
              "          document.querySelector('#df-27c8fef7-e24f-46df-b616-20f76edbae4c button.colab-df-convert');\n",
              "        buttonEl.style.display =\n",
              "          google.colab.kernel.accessAllowed ? 'block' : 'none';\n",
              "\n",
              "        async function convertToInteractive(key) {\n",
              "          const element = document.querySelector('#df-27c8fef7-e24f-46df-b616-20f76edbae4c');\n",
              "          const dataTable =\n",
              "            await google.colab.kernel.invokeFunction('convertToInteractive',\n",
              "                                                     [key], {});\n",
              "          if (!dataTable) return;\n",
              "\n",
              "          const docLinkHtml = 'Like what you see? Visit the ' +\n",
              "            '<a target=\"_blank\" href=https://colab.research.google.com/notebooks/data_table.ipynb>data table notebook</a>'\n",
              "            + ' to learn more about interactive tables.';\n",
              "          element.innerHTML = '';\n",
              "          dataTable['output_type'] = 'display_data';\n",
              "          await google.colab.output.renderOutput(dataTable, element);\n",
              "          const docLink = document.createElement('div');\n",
              "          docLink.innerHTML = docLinkHtml;\n",
              "          element.appendChild(docLink);\n",
              "        }\n",
              "      </script>\n",
              "    </div>\n",
              "  </div>\n",
              "  "
            ],
            "text/plain": [
              "      Actaual  Predicted\n",
              "5551    18500    17760.0\n",
              "2487    20700    20352.0\n",
              "9931    10799     7456.0\n",
              "74      16000    19472.0\n",
              "228     21985    23808.0"
            ]
          },
          "metadata": {},
          "execution_count": 26
        }
      ],
      "execution_count": 26,
      "metadata": {
        "colab": {
          "base_uri": "https://localhost:8080/",
          "height": 202
        },
        "id": "6fWjIcfSjCIP",
        "outputId": "0fbc274a-5b6c-4c87-c22a-f424bb5473c0",
        "execution": {
          "iopub.status.busy": "2022-02-09T18:02:11.834Z",
          "iopub.execute_input": "2022-02-09T18:02:11.840Z",
          "iopub.status.idle": "2022-02-09T18:02:11.851Z",
          "shell.execute_reply": "2022-02-09T18:02:11.856Z"
        }
      }
    },
    {
      "cell_type": "markdown",
      "source": [
        "### Regression in Keras"
      ],
      "metadata": {
        "id": "gifC_-jYmxf5"
      }
    },
    {
      "cell_type": "code",
      "source": [
        "# build a sequential model\n",
        "# you choose the architecture\n",
        "import tensorflow as tf\n",
        "from tensorflow import keras\n",
        "from keras import layers\n",
        "from keras.layers import Dense \n",
        "\n",
        "model = keras.Sequential()\n",
        "model.add(keras.Input(shape=(37, )))\n",
        "model.add(layers.Dense(512, activation='relu'))\n",
        "model.add(layers.Dense(32, activation='elu'))\n",
        "model.add(layers.Dense(64, activation='selu'))\n",
        "model.add(layers.Dense(32, activation='tanh'))\n",
        "\n",
        "#X_train_input.shape\n",
        "#y_test.shape\n",
        "X_test_input.shape"
      ],
      "outputs": [
        {
          "output_type": "execute_result",
          "data": {
            "text/plain": [
              "(2134, 37)"
            ]
          },
          "metadata": {},
          "execution_count": 72
        }
      ],
      "execution_count": 72,
      "metadata": {
        "id": "YQWReKSIDAGg",
        "colab": {
          "base_uri": "https://localhost:8080/",
          "height": 0
        },
        "outputId": "1ddb4dd6-5d5c-430c-ddef-67ba46f0cdeb"
      }
    },
    {
      "cell_type": "code",
      "source": [
        "# compile the model\n",
        "model.compile(optimizer='adam',\n",
        "              loss='MeanSquaredError',\n",
        "              metrics=['mse','mae'])\n"
      ],
      "outputs": [],
      "execution_count": 74,
      "metadata": {
        "id": "0wRryCnQD2qX",
        "execution": {
          "iopub.status.busy": "2022-02-09T18:02:55.257Z",
          "iopub.execute_input": "2022-02-09T18:02:55.263Z",
          "iopub.status.idle": "2022-02-09T18:02:55.272Z",
          "shell.execute_reply": "2022-02-09T18:02:55.277Z"
        }
      }
    },
    {
      "cell_type": "code",
      "source": [
        "# train the model\n",
        "model.fit(X_train_input, y_train, epochs=40, batch_size=128)\n",
        "*miss ,test_mse_score, test_mae_score  = model.evaluate(X_test_input, y_test)\n",
        "#test_mae_score\n"
      ],
      "outputs": [
        {
          "output_type": "stream",
          "name": "stdout",
          "text": [
            "Epoch 1/40\n",
            "67/67 [==============================] - 1s 9ms/step - loss: 654537344.0000 - mse: 654537344.0000 - mae: 22831.7090\n",
            "Epoch 2/40\n",
            "67/67 [==============================] - 1s 8ms/step - loss: 654537472.0000 - mse: 654537472.0000 - mae: 22831.7051\n",
            "Epoch 3/40\n",
            "67/67 [==============================] - 1s 8ms/step - loss: 654537536.0000 - mse: 654537536.0000 - mae: 22831.7129\n",
            "Epoch 4/40\n",
            "67/67 [==============================] - 0s 7ms/step - loss: 654537536.0000 - mse: 654537536.0000 - mae: 22831.7188\n",
            "Epoch 5/40\n",
            "67/67 [==============================] - 1s 8ms/step - loss: 654537472.0000 - mse: 654537472.0000 - mae: 22831.7109\n",
            "Epoch 6/40\n",
            "67/67 [==============================] - 1s 7ms/step - loss: 654537536.0000 - mse: 654537536.0000 - mae: 22831.7109\n",
            "Epoch 7/40\n",
            "67/67 [==============================] - 1s 8ms/step - loss: 654537344.0000 - mse: 654537344.0000 - mae: 22831.7148\n",
            "Epoch 8/40\n",
            "67/67 [==============================] - 0s 7ms/step - loss: 654537472.0000 - mse: 654537472.0000 - mae: 22831.7148\n",
            "Epoch 9/40\n",
            "67/67 [==============================] - 0s 7ms/step - loss: 654537280.0000 - mse: 654537280.0000 - mae: 22831.7070\n",
            "Epoch 10/40\n",
            "67/67 [==============================] - 0s 6ms/step - loss: 654537344.0000 - mse: 654537344.0000 - mae: 22831.7129\n",
            "Epoch 11/40\n",
            "67/67 [==============================] - 0s 7ms/step - loss: 654537536.0000 - mse: 654537536.0000 - mae: 22831.7129\n",
            "Epoch 12/40\n",
            "67/67 [==============================] - 0s 7ms/step - loss: 654537408.0000 - mse: 654537408.0000 - mae: 22831.7109\n",
            "Epoch 13/40\n",
            "67/67 [==============================] - 1s 8ms/step - loss: 654537536.0000 - mse: 654537536.0000 - mae: 22831.7109\n",
            "Epoch 14/40\n",
            "67/67 [==============================] - 1s 8ms/step - loss: 654537344.0000 - mse: 654537344.0000 - mae: 22831.7168\n",
            "Epoch 15/40\n",
            "67/67 [==============================] - 1s 11ms/step - loss: 654537536.0000 - mse: 654537536.0000 - mae: 22831.7109\n",
            "Epoch 16/40\n",
            "67/67 [==============================] - 1s 9ms/step - loss: 654537536.0000 - mse: 654537536.0000 - mae: 22831.7188\n",
            "Epoch 17/40\n",
            "67/67 [==============================] - 1s 9ms/step - loss: 654537408.0000 - mse: 654537408.0000 - mae: 22831.7070\n",
            "Epoch 18/40\n",
            "67/67 [==============================] - 1s 8ms/step - loss: 654537280.0000 - mse: 654537280.0000 - mae: 22831.7148\n",
            "Epoch 19/40\n",
            "67/67 [==============================] - 0s 6ms/step - loss: 654537344.0000 - mse: 654537344.0000 - mae: 22831.7129\n",
            "Epoch 20/40\n",
            "67/67 [==============================] - 0s 7ms/step - loss: 654537536.0000 - mse: 654537536.0000 - mae: 22831.7129\n",
            "Epoch 21/40\n",
            "67/67 [==============================] - 1s 8ms/step - loss: 654537408.0000 - mse: 654537408.0000 - mae: 22831.7188\n",
            "Epoch 22/40\n",
            "67/67 [==============================] - 0s 6ms/step - loss: 654537472.0000 - mse: 654537472.0000 - mae: 22831.7129\n",
            "Epoch 23/40\n",
            "67/67 [==============================] - 1s 8ms/step - loss: 654537536.0000 - mse: 654537536.0000 - mae: 22831.7188\n",
            "Epoch 24/40\n",
            "67/67 [==============================] - 0s 7ms/step - loss: 654537408.0000 - mse: 654537408.0000 - mae: 22831.7070\n",
            "Epoch 25/40\n",
            "67/67 [==============================] - 1s 9ms/step - loss: 654537408.0000 - mse: 654537408.0000 - mae: 22831.7148\n",
            "Epoch 26/40\n",
            "67/67 [==============================] - 1s 7ms/step - loss: 654537472.0000 - mse: 654537472.0000 - mae: 22831.7148\n",
            "Epoch 27/40\n",
            "67/67 [==============================] - 1s 10ms/step - loss: 654537408.0000 - mse: 654537408.0000 - mae: 22831.7090\n",
            "Epoch 28/40\n",
            "67/67 [==============================] - 1s 8ms/step - loss: 654537536.0000 - mse: 654537536.0000 - mae: 22831.7090\n",
            "Epoch 29/40\n",
            "67/67 [==============================] - 1s 8ms/step - loss: 654537408.0000 - mse: 654537408.0000 - mae: 22831.7109\n",
            "Epoch 30/40\n",
            "67/67 [==============================] - 1s 8ms/step - loss: 654537472.0000 - mse: 654537472.0000 - mae: 22831.7129\n",
            "Epoch 31/40\n",
            "67/67 [==============================] - 1s 8ms/step - loss: 654537536.0000 - mse: 654537536.0000 - mae: 22831.7168\n",
            "Epoch 32/40\n",
            "67/67 [==============================] - 1s 8ms/step - loss: 654537472.0000 - mse: 654537472.0000 - mae: 22831.7168\n",
            "Epoch 33/40\n",
            "67/67 [==============================] - 1s 8ms/step - loss: 654537408.0000 - mse: 654537408.0000 - mae: 22831.7148\n",
            "Epoch 34/40\n",
            "67/67 [==============================] - 1s 8ms/step - loss: 654537472.0000 - mse: 654537472.0000 - mae: 22831.7109\n",
            "Epoch 35/40\n",
            "67/67 [==============================] - 1s 8ms/step - loss: 654537408.0000 - mse: 654537408.0000 - mae: 22831.7129\n",
            "Epoch 36/40\n",
            "67/67 [==============================] - 0s 5ms/step - loss: 654537536.0000 - mse: 654537536.0000 - mae: 22831.7129\n",
            "Epoch 37/40\n",
            "67/67 [==============================] - 0s 5ms/step - loss: 654537408.0000 - mse: 654537408.0000 - mae: 22831.7129\n",
            "Epoch 38/40\n",
            "67/67 [==============================] - 0s 4ms/step - loss: 654537408.0000 - mse: 654537408.0000 - mae: 22831.7168\n",
            "Epoch 39/40\n",
            "67/67 [==============================] - 0s 4ms/step - loss: 654537408.0000 - mse: 654537408.0000 - mae: 22831.7148\n",
            "Epoch 40/40\n",
            "67/67 [==============================] - 0s 5ms/step - loss: 654537536.0000 - mse: 654537536.0000 - mae: 22831.7168\n",
            "67/67 [==============================] - 0s 3ms/step - loss: 689029056.0000 - mse: 689029056.0000 - mae: 23151.5117\n"
          ]
        }
      ],
      "execution_count": 86,
      "metadata": {
        "colab": {
          "base_uri": "https://localhost:8080/",
          "height": 0
        },
        "id": "2S9rgkHBD2ux",
        "outputId": "a7c4a473-57c8-4dfd-94d9-981ce673f8c6",
        "execution": {
          "iopub.status.busy": "2022-02-09T18:03:01.932Z",
          "iopub.execute_input": "2022-02-09T18:03:01.939Z",
          "iopub.status.idle": "2022-02-09T18:03:01.949Z",
          "shell.execute_reply": "2022-02-09T18:03:01.955Z"
        }
      }
    },
    {
      "cell_type": "code",
      "source": [
        "# output test mse score, test mae score\n",
        "print('MAE:', test_mae_score)\n",
        "print('MSE:', test_mse_score)\n",
        "#print(output)"
      ],
      "outputs": [
        {
          "output_type": "stream",
          "name": "stdout",
          "text": [
            "23151.51171875\n",
            "689029056.0\n"
          ]
        }
      ],
      "execution_count": 87,
      "metadata": {
        "colab": {
          "base_uri": "https://localhost:8080/",
          "height": 0
        },
        "id": "Uq8OiVoVD2zk",
        "outputId": "3b48e880-d3ac-4fbf-8851-bfec708da96d",
        "execution": {
          "iopub.status.busy": "2022-02-09T18:03:19.101Z",
          "iopub.execute_input": "2022-02-09T18:03:19.107Z",
          "iopub.status.idle": "2022-02-09T18:03:19.117Z",
          "shell.execute_reply": "2022-02-09T18:03:19.124Z"
        }
      }
    },
    {
      "cell_type": "markdown",
      "source": [
        "### Step 7 Commentary\n",
        "\n",
        "Answer the following questions:\n",
        "\n",
        "a. Compare metrics from sklearn and Keras. \n",
        "\n",
        "\n",
        "b. Explore the data a bit more to speculate on why you achieved the results you got. \n",
        "\n",
        "\n",
        "c. Describe all the architectures/hyperparameters you tried and the results. What do you conclude?\n",
        "\n"
      ],
      "metadata": {
        "id": "7zB7XtbknGn2"
      }
    },
    {
      "cell_type": "markdown",
      "source": [
        "a. My metric between sklearn and Keras were wildly different. I am not sure why that is however.\n",
        "\n",
        "b. I believe I achieved the results I did because I did a 4 layer model using each type of activation. Giving wildly different and smaller results than the sklearn version.\n",
        "\n",
        "c.I tried two implementations. One being the standard Keras Sequential Model and the other being the Functional API, while the Functional API was more compact, I felt the Sequential Model to be more robust allowing for more customizability and thus giving possibilities to more favorable results. "
      ],
      "metadata": {
        "id": "4jeQMeaGvqDC"
      }
    },
    {
      "cell_type": "markdown",
      "source": [
        ""
      ],
      "metadata": {
        "id": "f-bZAa_jwsYO"
      }
    }
  ],
  "metadata": {
    "colab": {
      "name": "HW5_JOA170000.ipynb",
      "provenance": [],
      "collapsed_sections": [],
      "include_colab_link": true
    },
    "kernelspec": {
      "name": "python3",
      "display_name": "Python 3"
    },
    "language_info": {
      "name": "python",
      "version": "3.7.3",
      "mimetype": "text/x-python",
      "codemirror_mode": {
        "name": "ipython",
        "version": 3
      },
      "pygments_lexer": "ipython3",
      "nbconvert_exporter": "python",
      "file_extension": ".py"
    },
    "nteract": {
      "version": "0.28.0"
    }
  },
  "nbformat": 4,
  "nbformat_minor": 0
}